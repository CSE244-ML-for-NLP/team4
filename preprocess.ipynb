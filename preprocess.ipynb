{
 "cells": [
  {
   "cell_type": "code",
   "execution_count": 9,
   "metadata": {},
   "outputs": [],
   "source": [
    "import pandas as pd\n",
    "from scipy.io import wavfile"
   ]
  },
  {
   "cell_type": "code",
   "execution_count": 10,
   "metadata": {},
   "outputs": [],
   "source": [
    "source_file = pd.read_csv(\"data/train.csv\")"
   ]
  },
  {
   "cell_type": "code",
   "execution_count": 11,
   "metadata": {},
   "outputs": [
    {
     "data": {
      "text/html": [
       "<div>\n",
       "<style scoped>\n",
       "    .dataframe tbody tr th:only-of-type {\n",
       "        vertical-align: middle;\n",
       "    }\n",
       "\n",
       "    .dataframe tbody tr th {\n",
       "        vertical-align: top;\n",
       "    }\n",
       "\n",
       "    .dataframe thead th {\n",
       "        text-align: right;\n",
       "    }\n",
       "</style>\n",
       "<table border=\"1\" class=\"dataframe\">\n",
       "  <thead>\n",
       "    <tr style=\"text-align: right;\">\n",
       "      <th></th>\n",
       "      <th>clean_file</th>\n",
       "      <th>transcript</th>\n",
       "      <th>noisy_file</th>\n",
       "    </tr>\n",
       "  </thead>\n",
       "  <tbody>\n",
       "    <tr>\n",
       "      <th>0</th>\n",
       "      <td>data/clean/common_voice_en_17893917.wav</td>\n",
       "      <td>the new patch is less invasive than the old on...</td>\n",
       "      <td>data/noisy/common_voice_en_17893917.wav</td>\n",
       "    </tr>\n",
       "    <tr>\n",
       "      <th>1</th>\n",
       "      <td>data/clean/common_voice_en_18064497.wav</td>\n",
       "      <td>sauce for the goose is sauce for the gander</td>\n",
       "      <td>data/noisy/common_voice_en_18064497.wav</td>\n",
       "    </tr>\n",
       "    <tr>\n",
       "      <th>2</th>\n",
       "      <td>data/clean/common_voice_en_17914141.wav</td>\n",
       "      <td>no one near the remote machine you could ring</td>\n",
       "      <td>data/noisy/common_voice_en_17914141.wav</td>\n",
       "    </tr>\n",
       "    <tr>\n",
       "      <th>3</th>\n",
       "      <td>data/clean/common_voice_en_17263741.wav</td>\n",
       "      <td>do you mean it</td>\n",
       "      <td>data/noisy/common_voice_en_17263741.wav</td>\n",
       "    </tr>\n",
       "    <tr>\n",
       "      <th>4</th>\n",
       "      <td>data/clean/common_voice_en_17561821.wav</td>\n",
       "      <td>how is mozilla going to handle ambiguities lik...</td>\n",
       "      <td>data/noisy/common_voice_en_17561821.wav</td>\n",
       "    </tr>\n",
       "  </tbody>\n",
       "</table>\n",
       "</div>"
      ],
      "text/plain": [
       "                                clean_file  \\\n",
       "0  data/clean/common_voice_en_17893917.wav   \n",
       "1  data/clean/common_voice_en_18064497.wav   \n",
       "2  data/clean/common_voice_en_17914141.wav   \n",
       "3  data/clean/common_voice_en_17263741.wav   \n",
       "4  data/clean/common_voice_en_17561821.wav   \n",
       "\n",
       "                                          transcript  \\\n",
       "0  the new patch is less invasive than the old on...   \n",
       "1        sauce for the goose is sauce for the gander   \n",
       "2      no one near the remote machine you could ring   \n",
       "3                                     do you mean it   \n",
       "4  how is mozilla going to handle ambiguities lik...   \n",
       "\n",
       "                                noisy_file  \n",
       "0  data/noisy/common_voice_en_17893917.wav  \n",
       "1  data/noisy/common_voice_en_18064497.wav  \n",
       "2  data/noisy/common_voice_en_17914141.wav  \n",
       "3  data/noisy/common_voice_en_17263741.wav  \n",
       "4  data/noisy/common_voice_en_17561821.wav  "
      ]
     },
     "execution_count": 11,
     "metadata": {},
     "output_type": "execute_result"
    }
   ],
   "source": [
    "source_file.head()"
   ]
  },
  {
   "cell_type": "code",
   "execution_count": 18,
   "metadata": {},
   "outputs": [],
   "source": [
    "noise_ratio = 2  # it will be 1 / 4\n",
    "fs, noise = wavfile.read(\"data/noise/AirConditioner_1.wav\")\n",
    "for i in range(len(source_file[\"clean_file\"])):\n",
    "    noisy_path = source_file['noisy_file'][i]\n",
    "    clean_path = source_file['clean_file'][i]\n",
    "    fs, clean = wavfile.read(clean_path)\n",
    "    noisy_file = (clean * (1 - noise_ratio) // noise_ratio + noise[:len(clean)] // noise_ratio) \n",
    "    wavfile.write(noisy_path, fs, noisy_file)\n",
    "    "
   ]
  }
 ],
 "metadata": {
  "kernelspec": {
   "display_name": "Python 3",
   "language": "python",
   "name": "python3"
  },
  "language_info": {
   "codemirror_mode": {
    "name": "ipython",
    "version": 3
   },
   "file_extension": ".py",
   "mimetype": "text/x-python",
   "name": "python",
   "nbconvert_exporter": "python",
   "pygments_lexer": "ipython3",
   "version": "3.7.5"
  },
  "pycharm": {
   "stem_cell": {
    "cell_type": "raw",
    "source": [],
    "metadata": {
     "collapsed": false
    }
   }
  }
 },
 "nbformat": 4,
 "nbformat_minor": 2
}